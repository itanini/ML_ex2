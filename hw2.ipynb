{
 "cells": [
  {
   "cell_type": "markdown",
   "metadata": {},
   "source": [
    "## Student #1 ID: 207047150"
   ]
  },
  {
   "cell_type": "markdown",
   "metadata": {},
   "source": [
    "## Student #2 ID: 206727638"
   ]
  },
  {
   "cell_type": "markdown",
   "metadata": {
    "nbgrader": {
     "grade": false,
     "grade_id": "cell-35def0d0f4b47a0a",
     "locked": true,
     "schema_version": 1,
     "solution": false
    }
   },
   "source": [
    "# Exercise 1: Linear Regression\n",
    "\n",
    "## Read the following instructions carefully:\n",
    "\n",
    "1. This jupyter notebook contains all the step by step instructions needed for this exercise.\n",
    "1. Write **efficient vectorized** code whenever possible. Some calculations in this exercise take several minutes when implemented efficiently, and might take much longer otherwise. Unnecessary loops will result in point deduction.\n",
    "1. You are responsible for the correctness of your code and should add as many tests as you see fit. Those tests will not be graded nor checked.\n",
    "1. You are free to add code and markdown cells as you see fit.\n",
    "1. Write your functions in this jupyter notebook only. Do not create external python modules and import from them.\n",
    "1. You are allowed to use functions and methods from the [Python Standard Library](https://docs.python.org/3/library/) and [numpy](https://www.numpy.org/devdocs/reference/) only, unless otherwise mentioned.\n",
    "1. Your code must run without errors. During the environment setup, you were given a specific version of Python of install (`Python >= 3.6, numpy >= 1.14`). \n",
    "1. Answers to qualitative questions should be written in **markdown cells (with $\\LaTeX$ support)**.\n",
    "1. Submit this jupyter notebook only using your ID as a filename. No not use ZIP or RAR. For example, your submission should look like this: `123456789.ipynb` if you worked by yourself or `123456789_987654321.ipynb` if you worked in pairs.\n",
    "\n",
    "## In this exercise you will perform the following:\n",
    "1. Load a dataset and perform basic data exploration using a powerful data science library called [pandas](https://pandas.pydata.org/pandas-docs/stable/).\n",
    "1. Pre-process the data for linear regression.\n",
    "1. Compute the cost and perform gradient descent in pure numpy in vectorized form.\n",
    "1. Perform multivariate linear regression.\n",
    "1. Visualize your results using matplotlib.\n",
    "1. Preform feature selection."
   ]
  },
  {
   "cell_type": "code",
   "execution_count": 118,
   "metadata": {
    "ExecuteTime": {
     "end_time": "2024-12-12T06:15:30.852820Z",
     "start_time": "2024-12-12T06:15:30.804030Z"
    },
    "nbgrader": {
     "grade": false,
     "grade_id": "cell-5ed0076cec86f623",
     "locked": true,
     "schema_version": 1,
     "solution": false
    }
   },
   "outputs": [],
   "source": [
    "import numpy as np\n",
    "import pandas as pd\n",
    "import matplotlib.pyplot as plt\n",
    "# import seaborn as sns\n",
    "\n",
    "# make matplotlib figures appear inline in the notebook\n",
    "%matplotlib inline"
   ]
  },
  {
   "cell_type": "code",
   "execution_count": 119,
   "metadata": {
    "ExecuteTime": {
     "end_time": "2024-12-12T06:15:32.884367Z",
     "start_time": "2024-12-12T06:15:32.872352Z"
    }
   },
   "outputs": [],
   "source": [
    "plt.rcParams['figure.figsize'] = (14.0, 8.0) # set default size of plots\n",
    "plt.rcParams['image.interpolation'] = 'nearest'\n",
    "plt.rcParams['image.cmap'] = 'gray'"
   ]
  },
  {
   "cell_type": "markdown",
   "metadata": {
    "nbgrader": {
     "grade": false,
     "grade_id": "cell-916f46de8cde2ca7",
     "locked": true,
     "schema_version": 1,
     "solution": false
    }
   },
   "source": [
    "# Part 1: Data Preprocessing (5 Points)\n",
    "\n",
    "For the following exercise, we will use a dataset containing housing prices in King County, USA. The dataset contains 21,613 observations with 17 features and a single target value - the house price. \n",
    "\n",
    "First, we will read and explore the data using pandas and the `.read_csv` method. Pandas is an open source library providing high-performance, easy-to-use data structures and data analysis tools for the Python programming language."
   ]
  },
  {
   "cell_type": "code",
   "execution_count": 158,
   "metadata": {
    "ExecuteTime": {
     "end_time": "2024-12-12T06:15:34.321778Z",
     "start_time": "2024-12-12T06:15:34.275Z"
    },
    "nbgrader": {
     "grade": false,
     "grade_id": "cell-9ef8b2769c2c1949",
     "locked": true,
     "schema_version": 1,
     "solution": false
    }
   },
   "outputs": [],
   "source": [
    "# Read comma separated data\n",
    "df = pd.read_csv('kc_house_data.csv') # Relative paths are sometimes better than absolute paths.\n",
    "# df stands for dataframe, which is the default format for datasets in pandas"
   ]
  },
  {
   "cell_type": "markdown",
   "metadata": {
    "nbgrader": {
     "grade": false,
     "grade_id": "cell-6966afc155aa6616",
     "locked": true,
     "schema_version": 1,
     "solution": false
    }
   },
   "source": [
    "### Data Exploration\n",
    "A good practice in any data-oriented project is to first try and understand the data. Fortunately, pandas is built for that purpose. Start by looking at the top of the dataset using the `df.head()` command. This will be the first indication that you read your data properly, and that the headers are correct. Next, you can use `df.describe()` to show statistics on the data and check for trends and irregularities."
   ]
  },
  {
   "cell_type": "code",
   "execution_count": 159,
   "metadata": {
    "ExecuteTime": {
     "end_time": "2024-12-12T06:15:35.417823Z",
     "start_time": "2024-12-12T06:15:35.400206Z"
    },
    "nbgrader": {
     "grade": true,
     "grade_id": "cell-5b9d27f913f08c27",
     "locked": false,
     "points": 1,
     "schema_version": 1,
     "solution": true
    }
   },
   "outputs": [
    {
     "data": {
      "text/html": [
       "<div>\n",
       "<style scoped>\n",
       "    .dataframe tbody tr th:only-of-type {\n",
       "        vertical-align: middle;\n",
       "    }\n",
       "\n",
       "    .dataframe tbody tr th {\n",
       "        vertical-align: top;\n",
       "    }\n",
       "\n",
       "    .dataframe thead th {\n",
       "        text-align: right;\n",
       "    }\n",
       "</style>\n",
       "<table border=\"1\" class=\"dataframe\">\n",
       "  <thead>\n",
       "    <tr style=\"text-align: right;\">\n",
       "      <th></th>\n",
       "      <th>id</th>\n",
       "      <th>date</th>\n",
       "      <th>price</th>\n",
       "      <th>bedrooms</th>\n",
       "      <th>bathrooms</th>\n",
       "      <th>sqft_living</th>\n",
       "      <th>sqft_lot</th>\n",
       "      <th>floors</th>\n",
       "      <th>waterfront</th>\n",
       "      <th>view</th>\n",
       "      <th>condition</th>\n",
       "      <th>grade</th>\n",
       "      <th>sqft_above</th>\n",
       "      <th>yr_built</th>\n",
       "      <th>yr_renovated</th>\n",
       "      <th>zipcode</th>\n",
       "      <th>lat</th>\n",
       "      <th>long</th>\n",
       "      <th>sqft_living15</th>\n",
       "      <th>sqft_lot15</th>\n",
       "    </tr>\n",
       "  </thead>\n",
       "  <tbody>\n",
       "    <tr>\n",
       "      <th>0</th>\n",
       "      <td>7129300520</td>\n",
       "      <td>20141013T000000</td>\n",
       "      <td>221900.0</td>\n",
       "      <td>3</td>\n",
       "      <td>1.00</td>\n",
       "      <td>1180</td>\n",
       "      <td>5650</td>\n",
       "      <td>1.0</td>\n",
       "      <td>0</td>\n",
       "      <td>0</td>\n",
       "      <td>3</td>\n",
       "      <td>7</td>\n",
       "      <td>1180</td>\n",
       "      <td>1955</td>\n",
       "      <td>0</td>\n",
       "      <td>98178</td>\n",
       "      <td>47.5112</td>\n",
       "      <td>-122.257</td>\n",
       "      <td>1340</td>\n",
       "      <td>5650</td>\n",
       "    </tr>\n",
       "    <tr>\n",
       "      <th>1</th>\n",
       "      <td>6414100192</td>\n",
       "      <td>20141209T000000</td>\n",
       "      <td>538000.0</td>\n",
       "      <td>3</td>\n",
       "      <td>2.25</td>\n",
       "      <td>2570</td>\n",
       "      <td>7242</td>\n",
       "      <td>2.0</td>\n",
       "      <td>0</td>\n",
       "      <td>0</td>\n",
       "      <td>3</td>\n",
       "      <td>7</td>\n",
       "      <td>2170</td>\n",
       "      <td>1951</td>\n",
       "      <td>1991</td>\n",
       "      <td>98125</td>\n",
       "      <td>47.7210</td>\n",
       "      <td>-122.319</td>\n",
       "      <td>1690</td>\n",
       "      <td>7639</td>\n",
       "    </tr>\n",
       "    <tr>\n",
       "      <th>2</th>\n",
       "      <td>5631500400</td>\n",
       "      <td>20150225T000000</td>\n",
       "      <td>180000.0</td>\n",
       "      <td>2</td>\n",
       "      <td>1.00</td>\n",
       "      <td>770</td>\n",
       "      <td>10000</td>\n",
       "      <td>1.0</td>\n",
       "      <td>0</td>\n",
       "      <td>0</td>\n",
       "      <td>3</td>\n",
       "      <td>6</td>\n",
       "      <td>770</td>\n",
       "      <td>1933</td>\n",
       "      <td>0</td>\n",
       "      <td>98028</td>\n",
       "      <td>47.7379</td>\n",
       "      <td>-122.233</td>\n",
       "      <td>2720</td>\n",
       "      <td>8062</td>\n",
       "    </tr>\n",
       "    <tr>\n",
       "      <th>3</th>\n",
       "      <td>2487200875</td>\n",
       "      <td>20141209T000000</td>\n",
       "      <td>604000.0</td>\n",
       "      <td>4</td>\n",
       "      <td>3.00</td>\n",
       "      <td>1960</td>\n",
       "      <td>5000</td>\n",
       "      <td>1.0</td>\n",
       "      <td>0</td>\n",
       "      <td>0</td>\n",
       "      <td>5</td>\n",
       "      <td>7</td>\n",
       "      <td>1050</td>\n",
       "      <td>1965</td>\n",
       "      <td>0</td>\n",
       "      <td>98136</td>\n",
       "      <td>47.5208</td>\n",
       "      <td>-122.393</td>\n",
       "      <td>1360</td>\n",
       "      <td>5000</td>\n",
       "    </tr>\n",
       "    <tr>\n",
       "      <th>4</th>\n",
       "      <td>1954400510</td>\n",
       "      <td>20150218T000000</td>\n",
       "      <td>510000.0</td>\n",
       "      <td>3</td>\n",
       "      <td>2.00</td>\n",
       "      <td>1680</td>\n",
       "      <td>8080</td>\n",
       "      <td>1.0</td>\n",
       "      <td>0</td>\n",
       "      <td>0</td>\n",
       "      <td>3</td>\n",
       "      <td>8</td>\n",
       "      <td>1680</td>\n",
       "      <td>1987</td>\n",
       "      <td>0</td>\n",
       "      <td>98074</td>\n",
       "      <td>47.6168</td>\n",
       "      <td>-122.045</td>\n",
       "      <td>1800</td>\n",
       "      <td>7503</td>\n",
       "    </tr>\n",
       "    <tr>\n",
       "      <th>5</th>\n",
       "      <td>7237550310</td>\n",
       "      <td>20140512T000000</td>\n",
       "      <td>1230000.0</td>\n",
       "      <td>4</td>\n",
       "      <td>4.50</td>\n",
       "      <td>5420</td>\n",
       "      <td>101930</td>\n",
       "      <td>1.0</td>\n",
       "      <td>0</td>\n",
       "      <td>0</td>\n",
       "      <td>3</td>\n",
       "      <td>11</td>\n",
       "      <td>3890</td>\n",
       "      <td>2001</td>\n",
       "      <td>0</td>\n",
       "      <td>98053</td>\n",
       "      <td>47.6561</td>\n",
       "      <td>-122.005</td>\n",
       "      <td>4760</td>\n",
       "      <td>101930</td>\n",
       "    </tr>\n",
       "    <tr>\n",
       "      <th>6</th>\n",
       "      <td>1321400060</td>\n",
       "      <td>20140627T000000</td>\n",
       "      <td>257500.0</td>\n",
       "      <td>3</td>\n",
       "      <td>2.25</td>\n",
       "      <td>1715</td>\n",
       "      <td>6819</td>\n",
       "      <td>2.0</td>\n",
       "      <td>0</td>\n",
       "      <td>0</td>\n",
       "      <td>3</td>\n",
       "      <td>7</td>\n",
       "      <td>1715</td>\n",
       "      <td>1995</td>\n",
       "      <td>0</td>\n",
       "      <td>98003</td>\n",
       "      <td>47.3097</td>\n",
       "      <td>-122.327</td>\n",
       "      <td>2238</td>\n",
       "      <td>6819</td>\n",
       "    </tr>\n",
       "    <tr>\n",
       "      <th>7</th>\n",
       "      <td>2008000270</td>\n",
       "      <td>20150115T000000</td>\n",
       "      <td>291850.0</td>\n",
       "      <td>3</td>\n",
       "      <td>1.50</td>\n",
       "      <td>1060</td>\n",
       "      <td>9711</td>\n",
       "      <td>1.0</td>\n",
       "      <td>0</td>\n",
       "      <td>0</td>\n",
       "      <td>3</td>\n",
       "      <td>7</td>\n",
       "      <td>1060</td>\n",
       "      <td>1963</td>\n",
       "      <td>0</td>\n",
       "      <td>98198</td>\n",
       "      <td>47.4095</td>\n",
       "      <td>-122.315</td>\n",
       "      <td>1650</td>\n",
       "      <td>9711</td>\n",
       "    </tr>\n",
       "    <tr>\n",
       "      <th>8</th>\n",
       "      <td>2414600126</td>\n",
       "      <td>20150415T000000</td>\n",
       "      <td>229500.0</td>\n",
       "      <td>3</td>\n",
       "      <td>1.00</td>\n",
       "      <td>1780</td>\n",
       "      <td>7470</td>\n",
       "      <td>1.0</td>\n",
       "      <td>0</td>\n",
       "      <td>0</td>\n",
       "      <td>3</td>\n",
       "      <td>7</td>\n",
       "      <td>1050</td>\n",
       "      <td>1960</td>\n",
       "      <td>0</td>\n",
       "      <td>98146</td>\n",
       "      <td>47.5123</td>\n",
       "      <td>-122.337</td>\n",
       "      <td>1780</td>\n",
       "      <td>8113</td>\n",
       "    </tr>\n",
       "    <tr>\n",
       "      <th>9</th>\n",
       "      <td>3793500160</td>\n",
       "      <td>20150312T000000</td>\n",
       "      <td>323000.0</td>\n",
       "      <td>3</td>\n",
       "      <td>2.50</td>\n",
       "      <td>1890</td>\n",
       "      <td>6560</td>\n",
       "      <td>2.0</td>\n",
       "      <td>0</td>\n",
       "      <td>0</td>\n",
       "      <td>3</td>\n",
       "      <td>7</td>\n",
       "      <td>1890</td>\n",
       "      <td>2003</td>\n",
       "      <td>0</td>\n",
       "      <td>98038</td>\n",
       "      <td>47.3684</td>\n",
       "      <td>-122.031</td>\n",
       "      <td>2390</td>\n",
       "      <td>7570</td>\n",
       "    </tr>\n",
       "  </tbody>\n",
       "</table>\n",
       "</div>"
      ],
      "text/plain": [
       "           id             date      price  bedrooms  bathrooms  sqft_living  \\\n",
       "0  7129300520  20141013T000000   221900.0         3       1.00         1180   \n",
       "1  6414100192  20141209T000000   538000.0         3       2.25         2570   \n",
       "2  5631500400  20150225T000000   180000.0         2       1.00          770   \n",
       "3  2487200875  20141209T000000   604000.0         4       3.00         1960   \n",
       "4  1954400510  20150218T000000   510000.0         3       2.00         1680   \n",
       "5  7237550310  20140512T000000  1230000.0         4       4.50         5420   \n",
       "6  1321400060  20140627T000000   257500.0         3       2.25         1715   \n",
       "7  2008000270  20150115T000000   291850.0         3       1.50         1060   \n",
       "8  2414600126  20150415T000000   229500.0         3       1.00         1780   \n",
       "9  3793500160  20150312T000000   323000.0         3       2.50         1890   \n",
       "\n",
       "   sqft_lot  floors  waterfront  view  condition  grade  sqft_above  yr_built  \\\n",
       "0      5650     1.0           0     0          3      7        1180      1955   \n",
       "1      7242     2.0           0     0          3      7        2170      1951   \n",
       "2     10000     1.0           0     0          3      6         770      1933   \n",
       "3      5000     1.0           0     0          5      7        1050      1965   \n",
       "4      8080     1.0           0     0          3      8        1680      1987   \n",
       "5    101930     1.0           0     0          3     11        3890      2001   \n",
       "6      6819     2.0           0     0          3      7        1715      1995   \n",
       "7      9711     1.0           0     0          3      7        1060      1963   \n",
       "8      7470     1.0           0     0          3      7        1050      1960   \n",
       "9      6560     2.0           0     0          3      7        1890      2003   \n",
       "\n",
       "   yr_renovated  zipcode      lat     long  sqft_living15  sqft_lot15  \n",
       "0             0    98178  47.5112 -122.257           1340        5650  \n",
       "1          1991    98125  47.7210 -122.319           1690        7639  \n",
       "2             0    98028  47.7379 -122.233           2720        8062  \n",
       "3             0    98136  47.5208 -122.393           1360        5000  \n",
       "4             0    98074  47.6168 -122.045           1800        7503  \n",
       "5             0    98053  47.6561 -122.005           4760      101930  \n",
       "6             0    98003  47.3097 -122.327           2238        6819  \n",
       "7             0    98198  47.4095 -122.315           1650        9711  \n",
       "8             0    98146  47.5123 -122.337           1780        8113  \n",
       "9             0    98038  47.3684 -122.031           2390        7570  "
      ]
     },
     "execution_count": 159,
     "metadata": {},
     "output_type": "execute_result"
    }
   ],
   "source": [
    "df.head(10)\n"
   ]
  },
  {
   "cell_type": "code",
   "execution_count": 122,
   "metadata": {
    "ExecuteTime": {
     "end_time": "2024-12-12T06:15:36.048944Z",
     "start_time": "2024-12-12T06:15:36.004257Z"
    },
    "nbgrader": {
     "grade": true,
     "grade_id": "cell-5bd0d6844b64ea1a",
     "locked": false,
     "points": 1,
     "schema_version": 1,
     "solution": true
    }
   },
   "outputs": [
    {
     "data": {
      "text/html": [
       "<div>\n",
       "<style scoped>\n",
       "    .dataframe tbody tr th:only-of-type {\n",
       "        vertical-align: middle;\n",
       "    }\n",
       "\n",
       "    .dataframe tbody tr th {\n",
       "        vertical-align: top;\n",
       "    }\n",
       "\n",
       "    .dataframe thead th {\n",
       "        text-align: right;\n",
       "    }\n",
       "</style>\n",
       "<table border=\"1\" class=\"dataframe\">\n",
       "  <thead>\n",
       "    <tr style=\"text-align: right;\">\n",
       "      <th></th>\n",
       "      <th>id</th>\n",
       "      <th>price</th>\n",
       "      <th>bedrooms</th>\n",
       "      <th>bathrooms</th>\n",
       "      <th>sqft_living</th>\n",
       "      <th>sqft_lot</th>\n",
       "      <th>floors</th>\n",
       "      <th>waterfront</th>\n",
       "      <th>view</th>\n",
       "      <th>condition</th>\n",
       "      <th>grade</th>\n",
       "      <th>sqft_above</th>\n",
       "      <th>yr_built</th>\n",
       "      <th>yr_renovated</th>\n",
       "      <th>zipcode</th>\n",
       "      <th>lat</th>\n",
       "      <th>long</th>\n",
       "      <th>sqft_living15</th>\n",
       "      <th>sqft_lot15</th>\n",
       "    </tr>\n",
       "  </thead>\n",
       "  <tbody>\n",
       "    <tr>\n",
       "      <th>count</th>\n",
       "      <td>2.161300e+04</td>\n",
       "      <td>2.161300e+04</td>\n",
       "      <td>21613.000000</td>\n",
       "      <td>21613.000000</td>\n",
       "      <td>21613.000000</td>\n",
       "      <td>2.161300e+04</td>\n",
       "      <td>21613.000000</td>\n",
       "      <td>21613.000000</td>\n",
       "      <td>21613.000000</td>\n",
       "      <td>21613.000000</td>\n",
       "      <td>21613.000000</td>\n",
       "      <td>21613.000000</td>\n",
       "      <td>21613.000000</td>\n",
       "      <td>21613.000000</td>\n",
       "      <td>21613.000000</td>\n",
       "      <td>21613.000000</td>\n",
       "      <td>21613.000000</td>\n",
       "      <td>21613.000000</td>\n",
       "      <td>21613.000000</td>\n",
       "    </tr>\n",
       "    <tr>\n",
       "      <th>mean</th>\n",
       "      <td>4.580302e+09</td>\n",
       "      <td>5.401822e+05</td>\n",
       "      <td>3.370842</td>\n",
       "      <td>2.114757</td>\n",
       "      <td>2079.899736</td>\n",
       "      <td>1.510697e+04</td>\n",
       "      <td>1.494309</td>\n",
       "      <td>0.007542</td>\n",
       "      <td>0.234303</td>\n",
       "      <td>3.409430</td>\n",
       "      <td>7.656873</td>\n",
       "      <td>1788.390691</td>\n",
       "      <td>1971.005136</td>\n",
       "      <td>84.402258</td>\n",
       "      <td>98077.939805</td>\n",
       "      <td>47.560053</td>\n",
       "      <td>-122.213896</td>\n",
       "      <td>1986.552492</td>\n",
       "      <td>12768.455652</td>\n",
       "    </tr>\n",
       "    <tr>\n",
       "      <th>std</th>\n",
       "      <td>2.876566e+09</td>\n",
       "      <td>3.673622e+05</td>\n",
       "      <td>0.930062</td>\n",
       "      <td>0.770163</td>\n",
       "      <td>918.440897</td>\n",
       "      <td>4.142051e+04</td>\n",
       "      <td>0.539989</td>\n",
       "      <td>0.086517</td>\n",
       "      <td>0.766318</td>\n",
       "      <td>0.650743</td>\n",
       "      <td>1.175459</td>\n",
       "      <td>828.090978</td>\n",
       "      <td>29.373411</td>\n",
       "      <td>401.679240</td>\n",
       "      <td>53.505026</td>\n",
       "      <td>0.138564</td>\n",
       "      <td>0.140828</td>\n",
       "      <td>685.391304</td>\n",
       "      <td>27304.179631</td>\n",
       "    </tr>\n",
       "    <tr>\n",
       "      <th>min</th>\n",
       "      <td>1.000102e+06</td>\n",
       "      <td>7.500000e+04</td>\n",
       "      <td>0.000000</td>\n",
       "      <td>0.000000</td>\n",
       "      <td>290.000000</td>\n",
       "      <td>5.200000e+02</td>\n",
       "      <td>1.000000</td>\n",
       "      <td>0.000000</td>\n",
       "      <td>0.000000</td>\n",
       "      <td>1.000000</td>\n",
       "      <td>1.000000</td>\n",
       "      <td>290.000000</td>\n",
       "      <td>1900.000000</td>\n",
       "      <td>0.000000</td>\n",
       "      <td>98001.000000</td>\n",
       "      <td>47.155900</td>\n",
       "      <td>-122.519000</td>\n",
       "      <td>399.000000</td>\n",
       "      <td>651.000000</td>\n",
       "    </tr>\n",
       "    <tr>\n",
       "      <th>25%</th>\n",
       "      <td>2.123049e+09</td>\n",
       "      <td>3.219500e+05</td>\n",
       "      <td>3.000000</td>\n",
       "      <td>1.750000</td>\n",
       "      <td>1427.000000</td>\n",
       "      <td>5.040000e+03</td>\n",
       "      <td>1.000000</td>\n",
       "      <td>0.000000</td>\n",
       "      <td>0.000000</td>\n",
       "      <td>3.000000</td>\n",
       "      <td>7.000000</td>\n",
       "      <td>1190.000000</td>\n",
       "      <td>1951.000000</td>\n",
       "      <td>0.000000</td>\n",
       "      <td>98033.000000</td>\n",
       "      <td>47.471000</td>\n",
       "      <td>-122.328000</td>\n",
       "      <td>1490.000000</td>\n",
       "      <td>5100.000000</td>\n",
       "    </tr>\n",
       "    <tr>\n",
       "      <th>50%</th>\n",
       "      <td>3.904930e+09</td>\n",
       "      <td>4.500000e+05</td>\n",
       "      <td>3.000000</td>\n",
       "      <td>2.250000</td>\n",
       "      <td>1910.000000</td>\n",
       "      <td>7.618000e+03</td>\n",
       "      <td>1.500000</td>\n",
       "      <td>0.000000</td>\n",
       "      <td>0.000000</td>\n",
       "      <td>3.000000</td>\n",
       "      <td>7.000000</td>\n",
       "      <td>1560.000000</td>\n",
       "      <td>1975.000000</td>\n",
       "      <td>0.000000</td>\n",
       "      <td>98065.000000</td>\n",
       "      <td>47.571800</td>\n",
       "      <td>-122.230000</td>\n",
       "      <td>1840.000000</td>\n",
       "      <td>7620.000000</td>\n",
       "    </tr>\n",
       "    <tr>\n",
       "      <th>75%</th>\n",
       "      <td>7.308900e+09</td>\n",
       "      <td>6.450000e+05</td>\n",
       "      <td>4.000000</td>\n",
       "      <td>2.500000</td>\n",
       "      <td>2550.000000</td>\n",
       "      <td>1.068800e+04</td>\n",
       "      <td>2.000000</td>\n",
       "      <td>0.000000</td>\n",
       "      <td>0.000000</td>\n",
       "      <td>4.000000</td>\n",
       "      <td>8.000000</td>\n",
       "      <td>2210.000000</td>\n",
       "      <td>1997.000000</td>\n",
       "      <td>0.000000</td>\n",
       "      <td>98118.000000</td>\n",
       "      <td>47.678000</td>\n",
       "      <td>-122.125000</td>\n",
       "      <td>2360.000000</td>\n",
       "      <td>10083.000000</td>\n",
       "    </tr>\n",
       "    <tr>\n",
       "      <th>max</th>\n",
       "      <td>9.900000e+09</td>\n",
       "      <td>7.700000e+06</td>\n",
       "      <td>33.000000</td>\n",
       "      <td>8.000000</td>\n",
       "      <td>13540.000000</td>\n",
       "      <td>1.651359e+06</td>\n",
       "      <td>3.500000</td>\n",
       "      <td>1.000000</td>\n",
       "      <td>4.000000</td>\n",
       "      <td>5.000000</td>\n",
       "      <td>13.000000</td>\n",
       "      <td>9410.000000</td>\n",
       "      <td>2015.000000</td>\n",
       "      <td>2015.000000</td>\n",
       "      <td>98199.000000</td>\n",
       "      <td>47.777600</td>\n",
       "      <td>-121.315000</td>\n",
       "      <td>6210.000000</td>\n",
       "      <td>871200.000000</td>\n",
       "    </tr>\n",
       "  </tbody>\n",
       "</table>\n",
       "</div>"
      ],
      "text/plain": [
       "                 id         price      bedrooms     bathrooms   sqft_living  \\\n",
       "count  2.161300e+04  2.161300e+04  21613.000000  21613.000000  21613.000000   \n",
       "mean   4.580302e+09  5.401822e+05      3.370842      2.114757   2079.899736   \n",
       "std    2.876566e+09  3.673622e+05      0.930062      0.770163    918.440897   \n",
       "min    1.000102e+06  7.500000e+04      0.000000      0.000000    290.000000   \n",
       "25%    2.123049e+09  3.219500e+05      3.000000      1.750000   1427.000000   \n",
       "50%    3.904930e+09  4.500000e+05      3.000000      2.250000   1910.000000   \n",
       "75%    7.308900e+09  6.450000e+05      4.000000      2.500000   2550.000000   \n",
       "max    9.900000e+09  7.700000e+06     33.000000      8.000000  13540.000000   \n",
       "\n",
       "           sqft_lot        floors    waterfront          view     condition  \\\n",
       "count  2.161300e+04  21613.000000  21613.000000  21613.000000  21613.000000   \n",
       "mean   1.510697e+04      1.494309      0.007542      0.234303      3.409430   \n",
       "std    4.142051e+04      0.539989      0.086517      0.766318      0.650743   \n",
       "min    5.200000e+02      1.000000      0.000000      0.000000      1.000000   \n",
       "25%    5.040000e+03      1.000000      0.000000      0.000000      3.000000   \n",
       "50%    7.618000e+03      1.500000      0.000000      0.000000      3.000000   \n",
       "75%    1.068800e+04      2.000000      0.000000      0.000000      4.000000   \n",
       "max    1.651359e+06      3.500000      1.000000      4.000000      5.000000   \n",
       "\n",
       "              grade    sqft_above      yr_built  yr_renovated       zipcode  \\\n",
       "count  21613.000000  21613.000000  21613.000000  21613.000000  21613.000000   \n",
       "mean       7.656873   1788.390691   1971.005136     84.402258  98077.939805   \n",
       "std        1.175459    828.090978     29.373411    401.679240     53.505026   \n",
       "min        1.000000    290.000000   1900.000000      0.000000  98001.000000   \n",
       "25%        7.000000   1190.000000   1951.000000      0.000000  98033.000000   \n",
       "50%        7.000000   1560.000000   1975.000000      0.000000  98065.000000   \n",
       "75%        8.000000   2210.000000   1997.000000      0.000000  98118.000000   \n",
       "max       13.000000   9410.000000   2015.000000   2015.000000  98199.000000   \n",
       "\n",
       "                lat          long  sqft_living15     sqft_lot15  \n",
       "count  21613.000000  21613.000000   21613.000000   21613.000000  \n",
       "mean      47.560053   -122.213896    1986.552492   12768.455652  \n",
       "std        0.138564      0.140828     685.391304   27304.179631  \n",
       "min       47.155900   -122.519000     399.000000     651.000000  \n",
       "25%       47.471000   -122.328000    1490.000000    5100.000000  \n",
       "50%       47.571800   -122.230000    1840.000000    7620.000000  \n",
       "75%       47.678000   -122.125000    2360.000000   10083.000000  \n",
       "max       47.777600   -121.315000    6210.000000  871200.000000  "
      ]
     },
     "execution_count": 122,
     "metadata": {},
     "output_type": "execute_result"
    }
   ],
   "source": [
    "df.describe()"
   ]
  },
  {
   "cell_type": "markdown",
   "metadata": {
    "nbgrader": {
     "grade": false,
     "grade_id": "cell-9b9bd1b387905904",
     "locked": true,
     "schema_version": 1,
     "solution": false
    }
   },
   "source": [
    "**Since we are dealing with simple linear regression, we will extract the target values and the `sqft_living` variable from the dataset. Use pandas and select both columns as separate variables and transform them into a numpy array.**"
   ]
  },
  {
   "cell_type": "code",
   "execution_count": 160,
   "metadata": {
    "ExecuteTime": {
     "end_time": "2024-12-12T06:15:37.241576Z",
     "start_time": "2024-12-12T06:15:37.229441Z"
    }
   },
   "outputs": [],
   "source": [
    "sqft_living = df[\"sqft_living\"].values\n",
    "prices = df[\"price\"].values\n"
   ]
  },
  {
   "cell_type": "markdown",
   "metadata": {
    "nbgrader": {
     "grade": false,
     "grade_id": "cell-508e7e1a13f9bbe4",
     "locked": true,
     "schema_version": 1,
     "solution": false
    }
   },
   "source": [
    "## Preprocessing\n",
    "\n",
    "Before performing linear regression, we notice that some of the features are clearly irrelevant. Remove the features \n",
    "`id` and `date` from the dataframe and save the values of the relevant feature in a dedicated variable as a numpy array. Save the targets as a different variable, also as a numpy array.\n",
    "\n",
    "We need to create a numpy array from the dataframe. Before doing so, we should notice that some of the features are clearly irrelevant. The features your should ignore are the `id` and `date`."
   ]
  },
  {
   "cell_type": "code",
   "execution_count": 161,
   "metadata": {
    "ExecuteTime": {
     "end_time": "2024-12-12T06:15:38.336237Z",
     "start_time": "2024-12-12T06:15:38.324467Z"
    }
   },
   "outputs": [],
   "source": [
    "X = df.drop(['price', 'date', 'id'], axis=1).values\n",
    "y = df['price'].values\n"
   ]
  },
  {
   "cell_type": "markdown",
   "metadata": {},
   "source": [
    "As the number of features grows, calculating gradients gets computationally expensive. We can speed this up by normalizing the input data to ensure all values are within the same range. This is especially important for datasets with high standard deviations or differences in the ranges of the attributes.\n",
    "\n",
    "Implement the cost function `preprocess` and make sure you are using vectorized operations (5 points)."
   ]
  },
  {
   "cell_type": "code",
   "execution_count": 162,
   "metadata": {
    "ExecuteTime": {
     "end_time": "2024-12-12T06:15:39.304635Z",
     "start_time": "2024-12-12T06:15:39.292709Z"
    }
   },
   "outputs": [],
   "source": [
    "def preprocess(X, y):\n",
    "    \"\"\"\n",
    "    Perform min-max scaling for both the data and the targets.\n",
    "    Input:\n",
    "    - X: Inputs (n features, m instances).\n",
    "    - y: True labels (1 target, m instances).\n",
    "\n",
    "    Output:\n",
    "    - X: The scaled inputs.\n",
    "    - y: The scaled labels.\n",
    "    \"\"\"\n",
    "    ###########################################################################\n",
    "    # TODO: Implement Min-Max Scaling.                                        #\n",
    "    ###########################################################################\n",
    "    X = (X - np.min(X, axis = 0))/(np.max(X, axis = 0) - np.min( X, axis = 0))\n",
    "    y = (y-np.min(y, axis=0))/(np.max(y, axis = 0) - np.min(y, axis = 0))\n",
    "    ###########################################################################\n",
    "    #                             END OF YOUR CODE                            #\n",
    "    ###########################################################################\n",
    "    return X, y\n"
   ]
  },
  {
   "cell_type": "code",
   "execution_count": 163,
   "metadata": {
    "ExecuteTime": {
     "end_time": "2024-12-12T06:15:39.835442Z",
     "start_time": "2024-12-12T06:15:39.812556Z"
    },
    "nbgrader": {
     "grade": true,
     "grade_id": "cell-9bb6a28b6b6932fa",
     "locked": false,
     "points": 5,
     "schema_version": 1,
     "solution": true
    }
   },
   "outputs": [],
   "source": [
    "X, y = preprocess(X, y)"
   ]
  },
  {
   "cell_type": "markdown",
   "metadata": {
    "nbgrader": {
     "grade": false,
     "grade_id": "cell-0c168d036748663e",
     "locked": true,
     "schema_version": 1,
     "solution": false
    }
   },
   "source": [
    "## Data Visualization\n",
    "\n",
    "Many real-world datasets, such as the dataset we are dealing with, are highly dimensional and cannot be visualized naively. <br>\n",
    "However, we can choose a feature and visualize the target price as a function of that feature. Pay close attention to the range of the axis, and include axis labels and a title for the figure. "
   ]
  },
  {
   "cell_type": "code",
   "execution_count": 164,
   "metadata": {
    "ExecuteTime": {
     "end_time": "2024-12-12T06:15:40.972216Z",
     "start_time": "2024-12-12T06:15:40.651528Z"
    },
    "nbgrader": {
     "grade": false,
     "grade_id": "cell-cbad8871e083093f",
     "locked": true,
     "schema_version": 1,
     "solution": false
    }
   },
   "outputs": [
    {
     "data": {
      "text/plain": [
       "Text(0, 0.5, 'price')"
      ]
     },
     "execution_count": 164,
     "metadata": {},
     "output_type": "execute_result"
    },
    {
     "data": {
      "image/png": "[encoded data removed]",
      "text/plain": [
       "<Figure size 1400x800 with 1 Axes>"
      ]
     },
     "metadata": {},
     "output_type": "display_data"
    }
   ],
   "source": [
    "# Choose one fearture and plot the target price as a function of that feature\n",
    "# Your code starts here\n",
    "plt.scatter(X[:,9], y)\n",
    "plt.title(\"prices as a function of sqft_above\")\n",
    "plt.xlabel(\"sqft_above\")\n",
    "plt.ylabel(\"price\")\n",
    "# Your code ends here"
   ]
  },
  {
   "cell_type": "markdown",
   "metadata": {
    "nbgrader": {
     "grade": false,
     "grade_id": "cell-c50f0a0e569142ed",
     "locked": true,
     "schema_version": 1,
     "solution": false
    }
   },
   "source": [
    "## Bias Trick\n",
    "\n",
    "Make sure that the data variable `X` supports the bias term $\\theta_0$. \n",
    "\n",
    "$$\n",
    "\\hat{y} = h_\\theta(\\vec{x}) = \\vec{\\theta^T} \\vec{x} = \\theta_0 + \\theta_1 x_1 + ... + \\theta_n x_n\n",
    "$$\n",
    "\n",
    "Add columns of ones as the zeroth column of `X`."
   ]
  },
  {
   "cell_type": "code",
   "execution_count": 165,
   "metadata": {
    "ExecuteTime": {
     "end_time": "2024-12-12T06:15:42.037613Z",
     "start_time": "2024-12-12T06:15:42.020390Z"
    }
   },
   "outputs": [],
   "source": [
    "# Your code starts here\n",
    "X[:,0] = np.ones(X.shape[0])\n",
    "# Your code ends here"
   ]
  },
  {
   "cell_type": "markdown",
   "metadata": {
    "nbgrader": {
     "grade": false,
     "grade_id": "cell-c7d7fd68c1b24943",
     "locked": true,
     "schema_version": 1,
     "solution": false
    }
   },
   "source": [
    "# Part 2: Multi Variable Linear Regression (65 Points)\n",
    "\n",
    "In this part we will create a multivariate linear model and the logic needed to trained it using the given data.\n",
    "\n",
    "Our task is to find a linear model that best explains our dataset. We start by guessing initial values for the linear regression parameters $\\vec{\\theta}$ and updating the values using gradient descent. The objective of linear regression is to minimize the cost function $J$:\n",
    "\n",
    "$$\n",
    "J(\\theta) = \\frac{1}{2m} \\sum_{i=1}^{n}(h_\\theta(x^{(i)})-y^{(i)})^2\n",
    "$$"
   ]
  },
  {
   "cell_type": "markdown",
   "metadata": {
    "nbgrader": {
     "grade": false,
     "grade_id": "cell-0f83af93c0436542",
     "locked": true,
     "schema_version": 1,
     "solution": false
    }
   },
   "source": [
    "Implement the cost function `compute_cost`. (10 points)"
   ]
  },
  {
   "cell_type": "code",
   "execution_count": 166,
   "metadata": {
    "ExecuteTime": {
     "end_time": "2024-12-12T06:15:43.827012Z",
     "start_time": "2024-12-12T06:15:43.821873Z"
    }
   },
   "outputs": [],
   "source": [
    "def compute_cost(X, y, theta):\n",
    "    \"\"\"\n",
    "    Computes the average squared difference between an obserbation's actual and\n",
    "    predicted values for linear regression.  \n",
    "\n",
    "    Input:\n",
    "    - X: Inputs  (n features over m instances).\n",
    "    - y: True labels (1 value over m instances).\n",
    "    - theta: The parameters (weights) of the model being learned.\n",
    "\n",
    "    Output:\n",
    "    - J: the cost associated with the current set of parameters (single number).\n",
    "    \"\"\"\n",
    "    \n",
    "    J = 0  # Use J for the cost.\n",
    "    ###########################################################################\n",
    "    # TODO: Implement the MSE cost function.                                  #\n",
    "    ###########################################################################\n",
    "    n = X.shape[0]\n",
    "    J = np.sum((np.matmul(X,theta) - y)**2)/(2*n)\n",
    "    ###########################################################################\n",
    "    #                             END OF YOUR CODE                            #\n",
    "    ###########################################################################\n",
    "    return J"
   ]
  },
  {
   "cell_type": "code",
   "execution_count": 167,
   "metadata": {
    "ExecuteTime": {
     "end_time": "2024-12-12T06:15:44.468430Z",
     "start_time": "2024-12-12T06:15:44.452970Z"
    },
    "nbgrader": {
     "grade": false,
     "grade_id": "cell-4c1cfec24e144479",
     "locked": true,
     "schema_version": 1,
     "solution": false
    }
   },
   "outputs": [
    {
     "data": {
      "text/plain": [
       "np.float64(5.1861313575358885)"
      ]
     },
     "execution_count": 167,
     "metadata": {},
     "output_type": "execute_result"
    }
   ],
   "source": [
    "np.random.seed(40) # seeding the random number generator allows us to obtain reproducible results\n",
    "theta = np.array(np.random.random(size=X.shape[1]))\n",
    "compute_cost(X, y, theta)"
   ]
  },
  {
   "cell_type": "markdown",
   "metadata": {
    "nbgrader": {
     "grade": false,
     "grade_id": "cell-afdc527b73d275bb",
     "locked": true,
     "schema_version": 1,
     "solution": false
    }
   },
   "source": [
    "Implement the function `gradient_descent`. (10 points)"
   ]
  },
  {
   "cell_type": "code",
   "execution_count": null,
   "metadata": {
    "ExecuteTime": {
     "end_time": "2024-12-12T07:01:24.530549Z",
     "start_time": "2024-12-12T07:01:24.524520Z"
    }
   },
   "outputs": [],
   "source": [
    "def gradient_descent(X, y, theta, alpha, num_iters):\n",
    "    \"\"\"\n",
    "    Perform gradient descent to learn the parameters of the model.\n",
    "    \n",
    "    Input:\n",
    "    - X: Inputs (n features over m instances).\n",
    "    - y: True labels (1 value over m instances).\n",
    "    - theta: The parameters (weights) of the model being learned.\n",
    "    - alpha: The learning rate of the model.\n",
    "    - num_iters: The maximum number of iterations.\n",
    "    \n",
    "    Output:\n",
    "    - theta: The learned parameters of the model.\n",
    "    - J_history: A list of the cost function values at each iteration.\n",
    "    \"\"\"\n",
    "    \n",
    "    J_history = []  # Use a list to save cost in every iteration\n",
    "    m = len(y)  # Number of training examples\n",
    "    previous_cost = float('inf')  # Initialize to a large value for the first comparison\n",
    "    thresh = 1e-8  # Convergence threshold\n",
    "    T_history =[theta] # history of theta\n",
    "    current_cost = compute_cost(X, y, theta)\n",
    "    J_history.append(current_cost)\n",
    "\n",
    "    for i in range(num_iters):\n",
    "        y_predicted = np.matmul(X, theta)\n",
    "        gradient = (1 / m) * np.matmul(X.T, (y_predicted - y))\n",
    "        if np.any(np.isnan(gradient)) or np.any(np.isinf(gradient)):\n",
    "            print(\"Warning: Gradient contains NaN or Inf values. Stopping.\")\n",
    "            break\n",
    "        theta = theta - alpha * gradient\n",
    "        T_history.append(theta)\n",
    "        current_cost = compute_cost(X, y, theta)\n",
    "        J_history.append(current_cost)\n",
    "        if abs(previous_cost - current_cost) <= thresh:\n",
    "            previous_cost = current_cost\n",
    "            break\n",
    "        \n",
    "         \n",
    "\n",
    "    return theta, J_history, np.array(T_history)"
   ]
  },
  {
   "cell_type": "code",
   "execution_count": 168,
   "metadata": {
    "ExecuteTime": {
     "end_time": "2024-12-12T06:15:48.931702Z",
     "start_time": "2024-12-12T06:15:46.906504Z"
    },
    "nbgrader": {
     "grade": false,
     "grade_id": "cell-59b95cbea13e7fc1",
     "locked": true,
     "schema_version": 1,
     "solution": false
    }
   },
   "outputs": [],
   "source": [
    "np.random.seed(42)\n",
    "theta = np.random.random(size=X.shape[1])\n",
    "iterations = 40000\n",
    "alpha = 0.1\n",
    "theta, J_history, T_history = gradient_descent(X ,y, theta, alpha, iterations)\n"
   ]
  },
  {
   "cell_type": "markdown",
   "metadata": {
    "nbgrader": {
     "grade": false,
     "grade_id": "cell-86125cd57f0fdb89",
     "locked": true,
     "schema_version": 1,
     "solution": false
    }
   },
   "source": [
    "You can evaluate the learning process by monitoring the loss as training progress. Visualize the loss as a function of the iterations using the `J_history` array. This might help you find problems with your code and might indicate that your model fails to converge. Your visualization should be clear and include a title, labels and a proper scale."
   ]
  },
  {
   "cell_type": "code",
   "execution_count": 151,
   "metadata": {
    "ExecuteTime": {
     "end_time": "2024-12-12T06:15:56.640798Z",
     "start_time": "2024-12-12T06:15:50.203983Z"
    },
    "nbgrader": {
     "grade": false,
     "grade_id": "cell-a565f1f721f6377f",
     "locked": true,
     "schema_version": 1,
     "solution": false
    }
   },
   "outputs": [
    {
     "data": {
      "text/plain": [
       "Text(0.5, 1.0, 'Cost Function History During Gradient Descent')"
      ]
     },
     "execution_count": 151,
     "metadata": {},
     "output_type": "execute_result"
    },
    {
     "data": {
      "image/png": "[encoded data removed]",
      "text/plain": [
       "<Figure size 1400x800 with 1 Axes>"
      ]
     },
     "metadata": {},
     "output_type": "display_data"
    }
   ],
   "source": [
    "# Your code starts here\n",
    "plt.bar(range(len(J_history)), J_history)\n",
    "plt.ylim(0,0.15)\n",
    "plt.xlabel(\"Iteration\")\n",
    "plt.ylabel(\"Cost (J)\")\n",
    "plt.title(\"Cost Function History During Gradient Descent\")\n",
    "# Your code ends here"
   ]
  },
  {
   "cell_type": "markdown",
   "metadata": {
    "nbgrader": {
     "grade": false,
     "grade_id": "cell-3bdd058ecc5db0eb",
     "locked": true,
     "schema_version": 1,
     "solution": false
    }
   },
   "source": [
    "Linear regression can also be solved by using the pseudo-inverse method. Implement the following function **without using `np.pinv`**. Instead, use direct matrix multiplication as you saw in class. (10 points)"
   ]
  },
  {
   "cell_type": "code",
   "execution_count": 152,
   "metadata": {
    "ExecuteTime": {
     "end_time": "2024-12-12T06:15:56.658596Z",
     "start_time": "2024-12-12T06:15:56.640798Z"
    }
   },
   "outputs": [],
   "source": [
    "def pinv(X, y):\n",
    "    \"\"\"\n",
    "    Calculate the optimal values of the parameters using the pseudoinverse\n",
    "    approach as you saw in class.\n",
    "\n",
    "    Input:\n",
    "    - X: Inputs  (n features over m instances).\n",
    "    - y: True labels (1 value over m instances).\n",
    "\n",
    "    Outpu:\n",
    "    - theta: The optimal parameters of your model.\n",
    "\n",
    "    ########## DO NOT USE numpy.pinv ##############\n",
    "    \"\"\"\n",
    "    pinv_theta = [] # Use a python list to save cost in every iteration\n",
    "    ###########################################################################\n",
    "    # TODO: Implement the pseudoinverse algorithm.                            #\n",
    "    ###########################################################################\n",
    "    pinv_theta = np.matmul(np.matmul(np.linalg.inv(np.matmul(X.T,X)),X.T),y)\n",
    "    ###########################################################################\n",
    "    #                             END OF YOUR CODE                            #\n",
    "    ###########################################################################\n",
    "    return pinv_theta"
   ]
  },
  {
   "cell_type": "code",
   "execution_count": 169,
   "metadata": {
    "ExecuteTime": {
     "end_time": "2024-12-12T06:15:56.683150Z",
     "start_time": "2024-12-12T06:15:56.673524Z"
    },
    "nbgrader": {
     "grade": false,
     "grade_id": "cell-ee89ac06af3087ae",
     "locked": true,
     "schema_version": 1,
     "solution": false
    }
   },
   "outputs": [],
   "source": [
    "theta_pinv = pinv(X,y)\n",
    "J_pinv = compute_cost(X, y, theta_pinv)\n"
   ]
  },
  {
   "cell_type": "markdown",
   "metadata": {},
   "source": [
    "Use the results of the previous section to assess the convergence of the gradient descent process. Explain and use clear visualziations.\n",
    "\n",
    "Your answer here:"
   ]
  },
  {
   "cell_type": "code",
   "execution_count": 154,
   "metadata": {
    "ExecuteTime": {
     "end_time": "2024-12-12T06:15:56.852662Z",
     "start_time": "2024-12-12T06:15:56.696975Z"
    },
    "nbgrader": {
     "grade": false,
     "grade_id": "cell-639b53fc41479335",
     "locked": true,
     "schema_version": 1,
     "solution": false
    }
   },
   "outputs": [
    {
     "data": {
      "text/plain": [
       "<matplotlib.legend.Legend at 0x1457af380>"
      ]
     },
     "execution_count": 154,
     "metadata": {},
     "output_type": "execute_result"
    },
    {
     "data": {
      "image/png": "[encoded data removed]",
      "text/plain": [
       "<Figure size 1400x800 with 1 Axes>"
      ]
     },
     "metadata": {},
     "output_type": "display_data"
    }
   ],
   "source": [
    "# Your code starts here\n",
    "plt.plot(T_history[:,0],T_history[:,1],label = \"Weights set by GD\" )\n",
    "plt.plot(theta_pinv[0], theta_pinv[1], 'rs', markersize = 10, label = \"Optimal Solution Achived by PINV\")\n",
    "plt.xlabel('Weights at position 0')\n",
    "plt.ylabel('Weights at position 1')\n",
    "plt.legend()\n",
    "# Your code ends here"
   ]
  },
  {
   "cell_type": "markdown",
   "metadata": {
    "nbgrader": {
     "grade": false,
     "grade_id": "cell-6e2524d07523d950",
     "locked": true,
     "schema_version": 1,
     "solution": false
    }
   },
   "source": [
    "The learning rate is another factor that determines the performance of our model in terms of speed and accuracy. Complete the function `find_best_alpha`. "
   ]
  },
  {
   "cell_type": "code",
   "execution_count": 170,
   "metadata": {
    "ExecuteTime": {
     "end_time": "2024-12-12T06:28:01.057545Z",
     "start_time": "2024-12-12T06:28:01.044600Z"
    }
   },
   "outputs": [],
   "source": [
    "def find_best_alpha(X, y, iterations):\n",
    "    \"\"\"\n",
    "    Iterate over the provided values of alpha and maintain a python \n",
    "    dictionary with alpha as the key and the final loss as the value.\n",
    "    For consistent results, use the same theta value for all runs.\n",
    "\n",
    "    Input:\n",
    "    - X: Inputs (n features over m instances).\n",
    "    - y: True labels (1 value over m instances).\n",
    "    - num_iters: The number of iterations performed.\n",
    "\n",
    "    Output:\n",
    "    - alpha_dict: A python dictionary containing alpha as the \n",
    "                  key and the final loss as the value\n",
    "    \"\"\"\n",
    "    \n",
    "    alphas = [0.00001, 0.00003, 0.0001, 0.0003, 0.001, 0.003, 0.01, 0.03, 0.1, 0.3, 1, 2, 3]\n",
    "    alpha_dict = {}\n",
    "    ###########################################################################\n",
    "    # TODO: Implement the function.                                           #\n",
    "    ###########################################################################\n",
    "    for alpha in alphas:\n",
    "        new_theta, _, _ = gradient_descent(X, y, theta, alpha, iterations)\n",
    "        loss = compute_cost(X, y, new_theta)\n",
    "        alpha_dict[alpha] = loss\n",
    "    ###########################################################################\n",
    "    #                             END OF YOUR CODE                            #\n",
    "    ###########################################################################\n",
    "    return alpha_dict"
   ]
  },
  {
   "cell_type": "code",
   "execution_count": 171,
   "metadata": {
    "ExecuteTime": {
     "end_time": "2024-12-12T06:33:01.469987Z",
     "start_time": "2024-12-12T06:32:34.782654Z"
    }
   },
   "outputs": [
    {
     "name": "stdout",
     "output_type": "stream",
     "text": [
      "Warning: Gradient contains NaN or Inf values. Stopping.\n",
      "Warning: Gradient contains NaN or Inf values. Stopping.\n",
      "Warning: Gradient contains NaN or Inf values. Stopping.\n"
     ]
    },
    {
     "name": "stderr",
     "output_type": "stream",
     "text": [
      "/opt/anaconda3/lib/python3.12/site-packages/numpy/_core/fromnumeric.py:86: RuntimeWarning: overflow encountered in reduce\n",
      "  return ufunc.reduce(obj, axis, dtype, out, **passkwargs)\n",
      "/var/folders/hm/x0ywtq191fg1bn25skwntmw80000gn/T/ipykernel_50312/1830758327.py:35: RuntimeWarning: invalid value encountered in scalar subtract\n",
      "  if abs(previous_cost - current_cost) <= thresh:\n",
      "/var/folders/hm/x0ywtq191fg1bn25skwntmw80000gn/T/ipykernel_50312/822441489.py:20: RuntimeWarning: overflow encountered in square\n",
      "  J = np.sum((np.matmul(X,theta) - y)**2)/(2*n)\n"
     ]
    }
   ],
   "source": [
    "alpha_dict = find_best_alpha(X, y, 40000)\n",
    "alpha_dict = {k: v for k, v in alpha_dict.items() if not np.isnan(v)}"
   ]
  },
  {
   "cell_type": "markdown",
   "metadata": {
    "nbgrader": {
     "grade": false,
     "grade_id": "cell-5bd93130c022d3e1",
     "locked": true,
     "schema_version": 1,
     "solution": false
    }
   },
   "source": [
    "Obtain the best learning rate from the dictionary `alpha_dict`. This can be done in a single line using built-in functions. \n",
    "\n",
    "**Explain the differences between the performance characteristics you observe.**\n",
    "\n",
    "Your answer here:"
   ]
  },
  {
   "cell_type": "code",
   "execution_count": 173,
   "metadata": {
    "ExecuteTime": {
     "end_time": "2024-12-12T07:21:32.482091Z",
     "start_time": "2024-12-12T07:21:32.476994Z"
    },
    "nbgrader": {
     "grade": false,
     "grade_id": "cell-4f81cf375ac46b73",
     "locked": false,
     "schema_version": 1,
     "solution": true
    }
   },
   "outputs": [
    {
     "data": {
      "text/plain": [
       "0.3"
      ]
     },
     "execution_count": 173,
     "metadata": {},
     "output_type": "execute_result"
    }
   ],
   "source": [
    "best_alpha = min(alpha_dict, key=alpha_dict.get)\n",
    "best_alpha"
   ]
  },
  {
   "cell_type": "markdown",
   "metadata": {
    "nbgrader": {
     "grade": false,
     "grade_id": "cell-d16367ecb7183996",
     "locked": true,
     "schema_version": 1,
     "solution": false
    }
   },
   "source": [
    "Pick the best three alpha values you just calculated and provide **one** graph with three lines indicating the loss as a function of iterations. Note you are required to provide general code for this purpose (no hard-coding). Make sure the visualization is clear and informative. (5 points)"
   ]
  },
  {
   "cell_type": "code",
   "execution_count": 174,
   "metadata": {
    "ExecuteTime": {
     "end_time": "2024-12-12T07:05:03.790356Z",
     "start_time": "2024-12-12T07:05:03.475962Z"
    },
    "nbgrader": {
     "grade": true,
     "grade_id": "cell-448638e817503ca3",
     "locked": false,
     "points": 0,
     "schema_version": 1,
     "solution": true
    }
   },
   "outputs": [
    {
     "data": {
      "image/png": "[encoded data removed]",
      "text/plain": [
       "<Figure size 1400x800 with 1 Axes>"
      ]
     },
     "metadata": {},
     "output_type": "display_data"
    }
   ],
   "source": [
    "# Your code starts here\n",
    "\n",
    "three_best_alphas = list(dict(sorted(alpha_dict.items(), key=lambda item: item[1])).keys())[:3]\n",
    "for alpha in three_best_alphas:\n",
    "    np.random.seed(10) # seeding the random number generator allows us to obtain reproducible results\n",
    "    theta = np.array(np.random.random(size=X.shape[1]))\n",
    "    _,j_history,_ = gradient_descent(X,y,theta, alpha, 100)\n",
    "    plt.plot(range(len(j_history)), j_history, label = f\"Alpha: {alpha}\")\n",
    "    plt.title(\"Cost as a function of iterations in different Alpha parameters\")\n",
    "    plt.xlabel(\"Iteration\")\n",
    "    plt.ylabel(\"Cost\")\n",
    "    plt.legend()\n",
    "    \n",
    "# Your code ends here"
   ]
  },
  {
   "cell_type": "markdown",
   "metadata": {
    "nbgrader": {
     "grade": false,
     "grade_id": "cell-b73893d236bff1d5",
     "locked": true,
     "schema_version": 1,
     "solution": false
    }
   },
   "source": [
    "Time for yet another visual sanity check. Create two scatter plots on the same figure: on one side, plot the predictions you obtained from a model trained using the alpha you previously found vs the predictions calculated using the optimal theta calculated using the pseudo-inverse. On the other size, create a scatter plot showing your model predictions vs the target values.\n",
    "\n",
    "What do you expect to see? Explain the results.\n",
    " \n",
    "Your answer here:"
   ]
  },
  {
   "cell_type": "code",
   "execution_count": 200,
   "metadata": {
    "ExecuteTime": {
     "end_time": "2024-12-12T07:23:58.624237Z",
     "start_time": "2024-12-12T07:23:56.174780Z"
    }
   },
   "outputs": [
    {
     "data": {
      "image/png": "[encoded data removed]",
      "text/plain": [
       "<Figure size 1500x600 with 2 Axes>"
      ]
     },
     "metadata": {},
     "output_type": "display_data"
    }
   ],
   "source": [
    "# Your code starts here\n",
    "GD_theta,j_history,_ = gradient_descent(X,y,theta, best_alpha, 4000)\n",
    "GD_predictions = np.matmul(X,GD_theta)\n",
    "pinv_theta = pinv(X,y)\n",
    "pinv_predictions = np.matmul(X,pinv_theta)\n",
    "\n",
    "# Run Gradient Descent and Pseudo-Inverse Predictions\n",
    "GD_theta, j_history, _ = gradient_descent(X, y, theta, best_alpha, 4000)\n",
    "GD_predictions = np.matmul(X, GD_theta)\n",
    "pinv_theta = pinv(X, y)\n",
    "pinv_predictions = np.matmul(X, pinv_theta)\n",
    "\n",
    "# Number of data points\n",
    "iterations = len(y)\n",
    "\n",
    "# Create side-by-side subplots\n",
    "fig, plots = plt.subplots(1, 2, figsize=(15, 6))\n",
    "\n",
    "# Plot diagonal dashed line for reference\n",
    "plots[0].plot([0, 1], [0, 1], linestyle='--', color='gray')  # Adjusted to represent (0, 1)\n",
    "plots[1].plot([0, 1], [0, 1], linestyle='--', color='gray')\n",
    "\n",
    "# Scatter plot for Gradient Descent predictions\n",
    "plots[0].scatter(y, GD_predictions, color='blue', label='GD Predictions')\n",
    "plots[0].set_title('Gradient Descent Predictions')\n",
    "plots[0].set_xlabel('True Values')\n",
    "plots[0].set_ylabel('Predicted Values')\n",
    "plots[0].legend()\n",
    "plots[0].grid(True)\n",
    "\n",
    "# Scatter plot for Pseudo-Inverse predictions\n",
    "plots[1].scatter(y, pinv_predictions, color='red', label='PINV Predictions')\n",
    "plots[1].set_title('Pseudo-Inverse Predictions')\n",
    "plots[1].set_xlabel('True Values')\n",
    "plots[1].set_ylabel('Predicted Values')\n",
    "plots[1].legend()\n",
    "plots[1].grid(True)\n",
    " \n",
    "# Adjust layout\n",
    "plt.tight_layout()\n",
    "plt.show()\n",
    "\n",
    "\n",
    "# Your code ends here"
   ]
  },
  {
   "cell_type": "markdown",
   "metadata": {
    "nbgrader": {
     "grade": false,
     "grade_id": "cell-cad652570cee3629",
     "locked": true,
     "schema_version": 1,
     "solution": false
    }
   },
   "source": [
    "## Part 3: feature selection (30 points)\n",
    "\n",
    "Adding additional features to our regression model makes it more complicated but does not necessarily improves performance. Find the combination of three features that best minimizes the loss on the validation set. First, we will reload the dataset as a dataframe in order to access the feature names. Use the dataframe with the relevant features as the input to the `generate_triplets` and obtain a list of all possible feature triplets."
   ]
  },
  {
   "cell_type": "code",
   "execution_count": 176,
   "metadata": {},
   "outputs": [],
   "source": [
    "import itertools\n",
    "def generate_triplets(X: pd.DataFrame):\n",
    "    \"\"\"\n",
    "    generate all possible sets of three features out of all relevant features\n",
    "    available from the given dataset X. Hint: check out the python package\n",
    "    'itertools'.di\n",
    "\n",
    "    Input:\n",
    "    - X: Inputs (n features over m instances).\n",
    "\n",
    "    Output:\n",
    "    - A python list containing all feature triplets as integers.\n",
    "    \"\"\"\n",
    "    \n",
    "    ###########################################################################\n",
    "    # TODO: Implement the function.                                           #\n",
    "    ###########################################################################\n",
    "    triplets = list(itertools.combinations(X.columns, 3))\n",
    "    ###########################################################################\n",
    "    #                             END OF YOUR CODE                            #\n",
    "    ###########################################################################\n",
    "    return triplets\n"
   ]
  },
  {
   "cell_type": "code",
   "execution_count": null,
   "metadata": {
    "nbgrader": {
     "grade": false,
     "grade_id": "cell-0800ea03f680996e",
     "locked": true,
     "schema_version": 1,
     "solution": false
    }
   },
   "outputs": [],
   "source": [
    "X_for_now = df.drop(['price', 'date', 'id'], axis=1)\n",
    "triplets = generate_triplets(X_for_now)\n",
    "\n"
   ]
  },
  {
   "cell_type": "markdown",
   "metadata": {
    "nbgrader": {
     "grade": false,
     "grade_id": "cell-5bf66bfd62450001",
     "locked": true,
     "schema_version": 1,
     "solution": false
    }
   },
   "source": [
    "In order to choose the best triplet possible, we will train a model using the training dataset (70%) and evaluate its performance on the validation dataset (20%). It is crucial to randomly split the dataset to obtain significant results. We will use the remaining 10% for the testing dataset (final model evaluation)."
   ]
  },
  {
   "cell_type": "code",
   "execution_count": null,
   "metadata": {},
   "outputs": [],
   "source": [
    "train_idx = np.random.choice(X_for_now.index, size=round(0.7*len(X)), replace=False)\n",
    "X_minus_train = X_for_now.drop(train_idx, axis=0)\n",
    "val_idx  = np.random.choice(X_minus_train.index, size=round(0.2*len(X)), replace=False)\n",
    "X_minus_train_and_val = X_for_now.drop(val_idx, axis=0)\n",
    "test_idx = X_minus_train_and_val.index.to_numpy()\n",
    "\n",
    "# Your code starts here\n",
    "# print(set(test_idx)&set(train_idx)&set(val_idx))\n",
    "# print(train_idx)\n",
    "# print(\"_\"*100)\n",
    "# print(val_idx)\n",
    "# print(\"_\"*100)\n",
    "# print(test_idx)\n",
    "# Your code ends here"
   ]
  },
  {
   "cell_type": "code",
   "execution_count": null,
   "metadata": {},
   "outputs": [
    {
     "name": "stdout",
     "output_type": "stream",
     "text": [
      "[[1.         0.375      0.18641509 ... 0.20847176 0.25830322 0.0143151 ]\n",
      " [1.         0.125      0.08603774 ... 0.26245847 0.26690759 0.0123715 ]\n",
      " [1.         0.28125    0.17886792 ... 0.34219269 0.38908966 0.02008388]\n",
      " ...\n",
      " [1.         0.21875    0.16075472 ... 0.60631229 0.1395629  0.00702775]\n",
      " [1.         0.21875    0.0709434  ... 0.35215947 0.16021339 0.00872897]\n",
      " [1.         0.3125     0.14339623 ... 0.55813953 0.30820857 0.00547356]]\n"
     ]
    }
   ],
   "source": [
    "X_train = X[train_idx]\n",
    "X_val  = X[val_idx]\n",
    "X_test = X[test_idx]\n",
    "\n",
    "y_train = y[train_idx]\n",
    "y_val  = y[val_idx]\n",
    "y_test = y[test_idx]"
   ]
  },
  {
   "cell_type": "markdown",
   "metadata": {},
   "source": [
    "Complete the function `find_best_triplet`. Note, this might take a while since there are hundreds of possible feature combinations. This is a good chance to check your gradient descent implementation and make sure it is efficient. "
   ]
  },
  {
   "cell_type": "code",
   "execution_count": 198,
   "metadata": {},
   "outputs": [],
   "source": [
    "def find_best_triplet(X_train, y_train, X_val, y_val, triplets, alpha, num_iter):\n",
    "    \"\"\"\n",
    "    Iterate over all possible triplets and find the triplet that best \n",
    "    minimizes the cost function. You should first preprocess the data \n",
    "    and obtain a array containing the columns corresponding to the\n",
    "    triplet. Don't forget the bias trick.\n",
    "\n",
    "    Input:\n",
    "    - X_train: training dataset.\n",
    "    - y_train: training labels.\n",
    "    - X_val: validation dataset.\n",
    "    - y_val: validation labels.\n",
    "    - triplets: a list of three features in X.\n",
    "    - alpha: The value of the best alpha previously found.\n",
    "    - num_iters: The number of updates performed.\n",
    "\n",
    "    Output:\n",
    "    - The best triplet.\n",
    "    \"\"\"\n",
    "    best_triplet = None\n",
    "    best_cost = float('inf')\n",
    "    ###########################################################################\n",
    "    # TODO: Implement the function.                                           #\n",
    "    ###########################################################################\n",
    "    for triplet in triplets:\n",
    "        feature_names = X_for_now.columns.tolist()\n",
    "        feature_indices = [feature_names.index(feature) for feature in triplet]\n",
    "        X_train_per_triplet = X_train[:, feature_indices]\n",
    "        X_val_per_triplet = X_val[:, feature_indices]\n",
    "\n",
    "        theta = np.array(np.random.random(size=X_train_per_triplet.shape[1]))\n",
    "        theta,_ ,_= gradient_descent(X_train_per_triplet,y_train,theta, alpha, num_iter)\n",
    "        \n",
    "        curr_cost = compute_cost(X_val_per_triplet,y_val,theta)\n",
    "        print(f'curr cost is {curr_cost}')\n",
    "        if best_cost and curr_cost<best_cost:\n",
    "            print(\"here \"*10)\n",
    "            best_cost = curr_cost\n",
    "            best_triplet = triplet\n",
    "        \n",
    "    ###########################################################################\n",
    "    #                             END OF YOUR CODE                            #\n",
    "    ###########################################################################\n",
    "    return best_triplet"
   ]
  },
  {
   "cell_type": "code",
   "execution_count": 199,
   "metadata": {
    "nbgrader": {
     "grade": false,
     "grade_id": "cell-64bf74a89ba3a0b2",
     "locked": true,
     "schema_version": 1,
     "solution": false
    }
   },
   "outputs": [
    {
     "name": "stdout",
     "output_type": "stream",
     "text": [
      "curr cost is 0.0005948557605332791\n",
      "here here here here here here here here here here \n",
      "curr cost is 0.0008375574557299687\n",
      "curr cost is 0.0008378407652992525\n",
      "curr cost is 0.0007778387784414591\n",
      "curr cost is 0.0007233190888149002\n",
      "curr cost is 0.0008237607172912534\n",
      "curr cost is 0.0006434763125275673\n",
      "curr cost is 0.0007059514680845126\n",
      "curr cost is 0.0007779249273713855\n",
      "curr cost is 0.0008302157978651476\n",
      "curr cost is 0.0008346359714411625\n",
      "curr cost is 0.0007412365568853247\n",
      "curr cost is 0.000827579666258861\n",
      "curr cost is 0.0007201037368831083\n",
      "curr cost is 0.0008365630301153009\n",
      "curr cost is 0.0005933955422045965\n",
      "here here here here here here here here here here \n",
      "curr cost is 0.0005946918550624053\n",
      "curr cost is 0.0005509869530124623\n",
      "here here here here here here here here here here \n",
      "curr cost is 0.0005422045584802083\n",
      "here here here here here here here here here here \n",
      "curr cost is 0.0005868826029459862\n",
      "curr cost is 0.0005522602582358608\n",
      "curr cost is 0.0005956294794185673\n",
      "curr cost is 0.00056352938018\n",
      "curr cost is 0.000587503911368089\n",
      "curr cost is 0.0005856001783787008\n",
      "curr cost is 0.0005065557086569683\n",
      "here here here here here here here here here here \n",
      "curr cost is 0.0005700028404186804\n",
      "curr cost is 0.000592970518659727\n",
      "curr cost is 0.000592804581984436\n",
      "curr cost is 0.0010840424422239646\n",
      "curr cost is 0.0010803291786552936\n",
      "curr cost is 0.0009709006087294026\n",
      "curr cost is 0.0011547400046896248\n",
      "curr cost is 0.0006603213962346747\n",
      "curr cost is 0.0007306262751788763\n",
      "curr cost is 0.0011522453132359685\n",
      "curr cost is 0.001141210103937883\n",
      "curr cost is 0.0011551766202481239\n",
      "curr cost is 0.0010475478528831346\n",
      "curr cost is 0.0011568382164587388\n",
      "curr cost is 0.0007929366241752794\n",
      "curr cost is 0.0011566351817004113\n",
      "curr cost is 0.0010152393562760684\n",
      "curr cost is 0.0009062860213495442\n",
      "curr cost is 0.0010753850399547063\n",
      "curr cost is 0.0006563575919468823\n",
      "curr cost is 0.0007242612718357735\n",
      "curr cost is 0.0010868001288578714\n",
      "curr cost is 0.001076388067687184\n",
      "curr cost is 0.001089785650796943\n",
      "curr cost is 0.0009953421341701168\n",
      "curr cost is 0.0010908655323650443\n",
      "curr cost is 0.000782398917481283\n",
      "curr cost is 0.0010859564621345488\n",
      "curr cost is 0.0009651203370326669\n",
      "curr cost is 0.001084896016921869\n",
      "curr cost is 0.0006028929013482248\n",
      "curr cost is 0.0006781209641931082\n",
      "curr cost is 0.001078858070260571\n",
      "curr cost is 0.0010739537070334206\n",
      "curr cost is 0.0010829241463326054\n",
      "curr cost is 0.0009746907653565456\n",
      "curr cost is 0.001084434547022865\n",
      "curr cost is 0.0007410526871208175\n"
     ]
    },
    {
     "ename": "KeyboardInterrupt",
     "evalue": "",
     "output_type": "error",
     "traceback": [
      "\u001b[0;31m---------------------------------------------------------------------------\u001b[0m",
      "\u001b[0;31mKeyboardInterrupt\u001b[0m                         Traceback (most recent call last)",
      "Cell \u001b[0;32mIn[199], line 1\u001b[0m\n\u001b[0;32m----> 1\u001b[0m \u001b[43mfind_best_triplet\u001b[49m\u001b[43m(\u001b[49m\u001b[43mX_train\u001b[49m\u001b[43m,\u001b[49m\u001b[43m \u001b[49m\u001b[43my_train\u001b[49m\u001b[43m,\u001b[49m\u001b[43m \u001b[49m\u001b[43mX_val\u001b[49m\u001b[43m,\u001b[49m\u001b[43m \u001b[49m\u001b[43my_val\u001b[49m\u001b[43m,\u001b[49m\u001b[43m \u001b[49m\u001b[43mtriplets\u001b[49m\u001b[43m,\u001b[49m\u001b[43m \u001b[49m\u001b[43malpha\u001b[49m\u001b[38;5;241;43m=\u001b[39;49m\u001b[43mbest_alpha\u001b[49m\u001b[43m,\u001b[49m\u001b[43m \u001b[49m\u001b[43mnum_iter\u001b[49m\u001b[38;5;241;43m=\u001b[39;49m\u001b[38;5;241;43m20000\u001b[39;49m\u001b[43m)\u001b[49m\n",
      "Cell \u001b[0;32mIn[198], line 32\u001b[0m, in \u001b[0;36mfind_best_triplet\u001b[0;34m(X_train, y_train, X_val, y_val, triplets, alpha, num_iter)\u001b[0m\n\u001b[1;32m     29\u001b[0m X_val_per_triplet \u001b[38;5;241m=\u001b[39m X_val[:, feature_indices]\n\u001b[1;32m     31\u001b[0m theta \u001b[38;5;241m=\u001b[39m np\u001b[38;5;241m.\u001b[39marray(np\u001b[38;5;241m.\u001b[39mrandom\u001b[38;5;241m.\u001b[39mrandom(size\u001b[38;5;241m=\u001b[39mX_train_per_triplet\u001b[38;5;241m.\u001b[39mshape[\u001b[38;5;241m1\u001b[39m]))\n\u001b[0;32m---> 32\u001b[0m theta,_ ,_\u001b[38;5;241m=\u001b[39m \u001b[43mgradient_descent\u001b[49m\u001b[43m(\u001b[49m\u001b[43mX_train_per_triplet\u001b[49m\u001b[43m,\u001b[49m\u001b[43my_train\u001b[49m\u001b[43m,\u001b[49m\u001b[43mtheta\u001b[49m\u001b[43m,\u001b[49m\u001b[43m \u001b[49m\u001b[43malpha\u001b[49m\u001b[43m,\u001b[49m\u001b[43m \u001b[49m\u001b[43mnum_iter\u001b[49m\u001b[43m)\u001b[49m\n\u001b[1;32m     34\u001b[0m curr_cost \u001b[38;5;241m=\u001b[39m compute_cost(X_val_per_triplet,y_val,theta)\n\u001b[1;32m     35\u001b[0m \u001b[38;5;28mprint\u001b[39m(\u001b[38;5;124mf\u001b[39m\u001b[38;5;124m'\u001b[39m\u001b[38;5;124mcurr cost is \u001b[39m\u001b[38;5;132;01m{\u001b[39;00mcurr_cost\u001b[38;5;132;01m}\u001b[39;00m\u001b[38;5;124m'\u001b[39m)\n",
      "Cell \u001b[0;32mIn[149], line 33\u001b[0m, in \u001b[0;36mgradient_descent\u001b[0;34m(X, y, theta, alpha, num_iters)\u001b[0m\n\u001b[1;32m     31\u001b[0m theta \u001b[38;5;241m=\u001b[39m theta \u001b[38;5;241m-\u001b[39m alpha \u001b[38;5;241m*\u001b[39m gradient\n\u001b[1;32m     32\u001b[0m T_history\u001b[38;5;241m.\u001b[39mappend(theta)\n\u001b[0;32m---> 33\u001b[0m current_cost \u001b[38;5;241m=\u001b[39m \u001b[43mcompute_cost\u001b[49m\u001b[43m(\u001b[49m\u001b[43mX\u001b[49m\u001b[43m,\u001b[49m\u001b[43m \u001b[49m\u001b[43my\u001b[49m\u001b[43m,\u001b[49m\u001b[43m \u001b[49m\u001b[43mtheta\u001b[49m\u001b[43m)\u001b[49m\n\u001b[1;32m     34\u001b[0m J_history\u001b[38;5;241m.\u001b[39mappend(current_cost)\n\u001b[1;32m     35\u001b[0m \u001b[38;5;28;01mif\u001b[39;00m \u001b[38;5;28mabs\u001b[39m(previous_cost \u001b[38;5;241m-\u001b[39m current_cost) \u001b[38;5;241m<\u001b[39m\u001b[38;5;241m=\u001b[39m thresh:\n",
      "Cell \u001b[0;32mIn[166], line 20\u001b[0m, in \u001b[0;36mcompute_cost\u001b[0;34m(X, y, theta)\u001b[0m\n\u001b[1;32m     16\u001b[0m \u001b[38;5;66;03m###########################################################################\u001b[39;00m\n\u001b[1;32m     17\u001b[0m \u001b[38;5;66;03m# TODO: Implement the MSE cost function.                                  #\u001b[39;00m\n\u001b[1;32m     18\u001b[0m \u001b[38;5;66;03m###########################################################################\u001b[39;00m\n\u001b[1;32m     19\u001b[0m n \u001b[38;5;241m=\u001b[39m X\u001b[38;5;241m.\u001b[39mshape[\u001b[38;5;241m0\u001b[39m]\n\u001b[0;32m---> 20\u001b[0m J \u001b[38;5;241m=\u001b[39m np\u001b[38;5;241m.\u001b[39msum((\u001b[43mnp\u001b[49m\u001b[38;5;241;43m.\u001b[39;49m\u001b[43mmatmul\u001b[49m\u001b[43m(\u001b[49m\u001b[43mX\u001b[49m\u001b[43m,\u001b[49m\u001b[43mtheta\u001b[49m\u001b[43m)\u001b[49m \u001b[38;5;241m-\u001b[39m y)\u001b[38;5;241m*\u001b[39m\u001b[38;5;241m*\u001b[39m\u001b[38;5;241m2\u001b[39m)\u001b[38;5;241m/\u001b[39m(\u001b[38;5;241m2\u001b[39m\u001b[38;5;241m*\u001b[39mn)\n\u001b[1;32m     21\u001b[0m \u001b[38;5;66;03m###########################################################################\u001b[39;00m\n\u001b[1;32m     22\u001b[0m \u001b[38;5;66;03m#                             END OF YOUR CODE                            #\u001b[39;00m\n\u001b[1;32m     23\u001b[0m \u001b[38;5;66;03m###########################################################################\u001b[39;00m\n\u001b[1;32m     24\u001b[0m \u001b[38;5;28;01mreturn\u001b[39;00m J\n",
      "\u001b[0;31mKeyboardInterrupt\u001b[0m: "
     ]
    }
   ],
   "source": [
    "find_best_triplet(X_train, y_train, X_val, y_val, triplets, alpha=best_alpha, num_iter=20000)"
   ]
  },
  {
   "cell_type": "markdown",
   "metadata": {},
   "source": [
    "### Forward Feature Selection\n",
    "\n",
    "As you have seen in class, train the model using one feature at a time, and choose the best single feature (use the validation dataset and save the feature for which you obtain the best loss value). Next, check which feature performs best when added to the feature you previously chose. Repeat this process until you reach 3 features + bias."
   ]
  },
  {
   "cell_type": "code",
   "execution_count": null,
   "metadata": {
    "scrolled": true
   },
   "outputs": [],
   "source": [
    "# Your code starts here\n",
    "\n",
    "# Your code ends here"
   ]
  },
  {
   "cell_type": "markdown",
   "metadata": {},
   "source": [
    "Use the testing dataset and report your findings. Explain the results."
   ]
  },
  {
   "cell_type": "code",
   "execution_count": null,
   "metadata": {},
   "outputs": [],
   "source": [
    "# Your code starts here\n",
    "\n",
    "# Your code ends here"
   ]
  }
 ],
 "metadata": {
  "celltoolbar": "Create Assignment",
  "kernelspec": {
   "display_name": "base",
   "language": "python",
   "name": "python3"
  },
  "language_info": {
   "codemirror_mode": {
    "name": "ipython",
    "version": 3
   },
   "file_extension": ".py",
   "mimetype": "text/x-python",
   "name": "python",
   "nbconvert_exporter": "python",
   "pygments_lexer": "ipython3",
   "version": "3.12.2"
  }
 },
 "nbformat": 4,
 "nbformat_minor": 2
}
